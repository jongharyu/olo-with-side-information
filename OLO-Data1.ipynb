{
 "cells": [
  {
   "cell_type": "code",
   "execution_count": 1,
   "metadata": {},
   "outputs": [],
   "source": [
    "import numpy as np \n",
    "import matplotlib.pyplot as plt"
   ]
  },
  {
   "cell_type": "code",
   "execution_count": 2,
   "metadata": {},
   "outputs": [],
   "source": [
    "import sys, os"
   ]
  },
  {
   "cell_type": "code",
   "execution_count": 3,
   "metadata": {},
   "outputs": [],
   "source": [
    "sys.path.append(os.path.abspath('../olo-with-side-information'))"
   ]
  },
  {
   "cell_type": "code",
   "execution_count": 4,
   "metadata": {},
   "outputs": [],
   "source": [
    "import datasets"
   ]
  },
  {
   "cell_type": "markdown",
   "metadata": {},
   "source": [
    "We will define four functions corresponding to four different algorithms for OCO. In each of these, $\\texttt{Features}$ is taken to be a $T \\times d$ matrix with each row corresponding to ${\\bf x}_t$ and $\\texttt{Responses}$ is a $d-$dimensional array with $t-$th entry corresponding to $y_t$. "
   ]
  },
  {
   "cell_type": "markdown",
   "metadata": {},
   "source": [
    "First we implement OGD as a function and record the total loss. Please refer to the notes for the theoretical component. "
   ]
  },
  {
   "cell_type": "code",
   "execution_count": 5,
   "metadata": {},
   "outputs": [],
   "source": [
    "def OGD(U, Features, Responses):      #U is a learning rate parameter---we use eta_t = U/sqrt{t}\n",
    "\n",
    "    T,d = Features.shape\n",
    "\n",
    "    Loss_OGD = 0 #This variable stores the cumulative loss\n",
    "    Loss_OGD_linearized = 0 #This variable stores \\sum <g_t, w_t>\n",
    "    w_t = np.zeros(d) #Initializing w to zero vector \n",
    "\n",
    "    for time in range(T):   #Remember t = 0.....T-1 as python default \n",
    "\n",
    "        #Reveal x_t and y_t\n",
    "        x_t = Features[time] #Already normalized so that ||x_t|| = 1 \n",
    "        y_t = Responses[time] #A real number\n",
    "\n",
    "        #Play vector w_t and incur  loss l_t(w_t) = |<w_t,x_t> - y_t|\n",
    "        Loss_OGD = Loss_OGD + abs(np.inner(w_t, x_t) - y_t)\n",
    "\n",
    "        #We will now update w_t using gradient descent, so first lets calcuate gradient of l_t at w_t\n",
    "        if np.inner(w_t, x_t) < y_t:\n",
    "            g_t = -x_t \n",
    "        else :\n",
    "            g_t = x_t #this subsumes the case when <x_t,w_t> = y_t\n",
    "        Loss_OGD_linearized = Loss_OGD_linearized + np.inner(g_t, w_t)\n",
    "\n",
    "        #Perform gradient descent step \n",
    "        eta_t = U/((time+1)**0.5) #Setting the learning rate, recall the python numbering, thats why we have t+1 \n",
    "        w_t = w_t - eta_t*g_t    #No need for projection since w_t is unrestricted \n",
    "    return Loss_OGD  #, Loss_OGD_linearized "
   ]
  },
  {
   "cell_type": "markdown",
   "metadata": {},
   "source": [
    "Now, we implement the parameter-free DFEG method of Orabona. We need to tweak the OGD method a bit. Please refer to notes for theoretical detail."
   ]
  },
  {
   "cell_type": "code",
   "execution_count": 6,
   "metadata": {
    "scrolled": true
   },
   "outputs": [],
   "source": [
    "#DFEG\n",
    "def DFEG(Features, Responses, a = 1, delta = 1, L = 1):\n",
    "\n",
    "    T,d = Features.shape\n",
    "\n",
    "    #initializing variables\n",
    "    theta_t = np.zeros(d)\n",
    "    H_t = delta \n",
    "    Loss_DFEG = 0\n",
    "    Loss_DFEG_linearized = 0\n",
    "\n",
    "    for time in range(T):   \n",
    "        \n",
    "        #Recieve x_t\n",
    "        x_t = Features[time] #A d-dimensional array already normalized so ||x_t|| = 1\n",
    "    \n",
    "        #Prepare a w_t\n",
    "        H_t = H_t + L**2 #Since x_t is normalized and ||x_t|| = 1\n",
    "        alpha_t = a*(H_t**0.5)\n",
    "        beta_t = H_t**1.5\n",
    "\n",
    "        if np.linalg.norm(theta_t) == 0:\n",
    "            w_t = np.zeros(d)\n",
    "        else :\n",
    "            NormTh = np.linalg.norm(theta_t)\n",
    "            w_t = theta_t*(np.exp(NormTh/alpha_t)/(beta_t*NormTh)) #The exponentiated gradient step\n",
    "\n",
    "        #Recieve y_t and therefore the loss function l_t \n",
    "        y_t = Responses[time]\n",
    "        \n",
    "        #Play w_t and incur loss\n",
    "        Loss_DFEG = Loss_DFEG + abs(np.inner(w_t, x_t) - y_t)   \n",
    "\n",
    "        #Now to update theta_t we will need the gradient of l_t(y) = |y - y_t| at y = <x_t,w_t>\n",
    "        if np.inner(w_t, x_t) < y_t:\n",
    "            SubGradient_t = -1    #Setting the subgradient \n",
    "        else :\n",
    "            SubGradient_t = 1       #this subsumes the case when <x_t,w_t> = y_t\n",
    "        g_t = x_t*SubGradient_t       #Subgradient of the function l_t(w) = |<w,x_t> - y_t| at w = w_t\n",
    "        Loss_DFEG_linearized = Loss_DFEG_linearized + np.inner(g_t, w_t)\n",
    "        \n",
    "        #Now update the theta\n",
    "        theta_t = theta_t - x_t*SubGradient_t\n",
    "    return Loss_DFEG #, Loss_DFEG_linearized\n"
   ]
  },
  {
   "cell_type": "markdown",
   "metadata": {},
   "source": [
    "Next, we will implement McMahan and Orabona's AdaptiveNormal."
   ]
  },
  {
   "cell_type": "code",
   "execution_count": 7,
   "metadata": {},
   "outputs": [],
   "source": [
    "def AdaptiveNormal(Features,Responses, a = 10, L = 1, eps = 1):\n",
    "\n",
    "    #AdaptiveNormal \n",
    "    T,d = Features.shape\n",
    "\n",
    "    #Initialize the variables\n",
    "    Loss_adanorm = 0 #This variable stores the cumulative loss\n",
    "    Loss_adanorm_linearized = 0 \n",
    "    theta_t = np.zeros(d)  \n",
    "\n",
    "    for time in range(T):  \n",
    "        \n",
    "       #Set the w_t\n",
    "        if np.linalg.norm(theta_t) == 0:\n",
    "            w_t = np.zeros(d)\n",
    "        else :\n",
    "            NormTh = np.linalg.norm(theta_t)\n",
    "            Term1 = np.exp(((NormTh+L)**2)/(2*a*(time+2))) - np.exp(((NormTh-L)**2)/(2*a*(time+2)))\n",
    "            Term2 = (2*L*(np.log(time+3))**2)**(-1)\n",
    "            w_t = theta_t*eps*Term1*Term2/NormTh #AdaptiveNormal step\n",
    "\n",
    "       #Load x_t and y_t\n",
    "        x_t = Features[time] #Normalized to ||x_t|| = 1\n",
    "        y_t = Responses[time] \n",
    "        \n",
    "       #Receive g_t, which is subgradient of l_t(w) = |<w,x_t> - y_t| at w=w_t\n",
    "        if np.inner(w_t, x_t) < y_t:\n",
    "            g_t = -x_t \n",
    "        else :\n",
    "            g_t = x_t\n",
    "\n",
    "        #suffer the losses \n",
    "        Loss_adanorm = Loss_adanorm + abs(np.inner(w_t, x_t) - y_t) \n",
    "        Loss_adanorm_linearized = Loss_adanorm_linearized + np.inner(g_t, w_t)\n",
    "\n",
    "        #Now update theta_t, recall that theta_t keeps track of \\sum_{i=1}^{time} -g_t\n",
    "        theta_t = theta_t - g_t\n",
    "    return Loss_adanorm"
   ]
  },
  {
   "cell_type": "markdown",
   "metadata": {},
   "source": [
    "Now we will implement the coin-betting based KT algorithm. Again, we will use the standard conversion of OCO to OLO by gradients $g_t$."
   ]
  },
  {
   "cell_type": "code",
   "execution_count": 8,
   "metadata": {},
   "outputs": [],
   "source": [
    "def KTBetting(Features, Responses, eps = 100):\n",
    "\n",
    "    T,d = Features.shape\n",
    "\n",
    "    #Initialize variables\n",
    "    w_t = np.zeros(d)\n",
    "    Loss_KT = 0\n",
    "    Losses_sum = 0 #Will keep track of \\sum_{i=1}^{t-1} <w_t, g_t>  \n",
    "    Gradients_sum = np.zeros(d)  #Will keep track of \\sum_{i=1}^{t-1} g_t   \n",
    "\n",
    "    for time in range(T):\n",
    "\n",
    "        #Play w_t\n",
    "        w_t = (Losses_sum + eps)/(time+1)*Gradients_sum\n",
    "\n",
    "        #Load x_t and y_t\n",
    "        x_t = Features[time] \n",
    "        y_t = Responses[time] \n",
    "\n",
    "        #Incur loss \n",
    "        Loss_KT = Loss_KT + abs(np.inner(w_t, x_t) - y_t) \n",
    "\n",
    "        #Calculate g_t  (changing signs from before since this is reward scenario)\n",
    "        if np.inner(w_t, x_t) < y_t:\n",
    "            g_t = x_t #Setting the subgradient \n",
    "        else :\n",
    "            g_t = -x_t #this subsumes the case when <x_t,w_t> = y_t\n",
    "\n",
    "        #Update the variables \n",
    "        Losses_sum = Losses_sum + np.inner(g_t, w_t) # = \\sum_{i = 1}^{time+1} <g_t, w_t>\n",
    "        Gradients_sum = Gradients_sum + g_t # = \\sum_{i = 1}^{time+1} g_t\n",
    "    \n",
    "    Loss_KT_linearized = Losses_sum #since this is already keeping track of \\sum <g_t,w_t>\n",
    "    return Loss_KT   #, Loss_KT_linearized "
   ]
  },
  {
   "cell_type": "markdown",
   "metadata": {},
   "source": [
    "We will now try on the real datasets."
   ]
  },
  {
   "cell_type": "code",
   "execution_count": 9,
   "metadata": {
    "scrolled": true
   },
   "outputs": [],
   "source": [
    "data = datasets.YearPredictionMSD(standardize=False, normalize=True)  # default preprocessing used in (Orabona and Pal, 2016)\n",
    "Features = data.X  # attributes (data size, dimensions) \n",
    "Responses = data.y  # target variables (data size,)"
   ]
  },
  {
   "cell_type": "code",
   "execution_count": 10,
   "metadata": {
    "scrolled": true
   },
   "outputs": [
    {
     "data": {
      "image/png": "[encoded data removed]",
      "text/plain": [
       "<Figure size 432x288 with 1 Axes>"
      ]
     },
     "metadata": {
      "needs_background": "light"
     },
     "output_type": "display_data"
    }
   ],
   "source": [
    "U_vec = np.array([10, 50, 100, 200, 500, 1000, 2000, 10**4, 10**5, 10**6])\n",
    "\n",
    "OGDErrors = np.zeros(len(U_vec))\n",
    "for i in range(len(U_vec)):\n",
    "    U = U_vec[i]\n",
    "    OGDErrors[i] = OGD(U, Features, Responses)\n",
    "\n",
    "DFEGError = DFEG(Features,Responses)\n",
    "AdaNormError = AdaptiveNormal(Features,Responses)\n",
    "KTError = KTBetting(Features,Responses)\n",
    "\n",
    "plt.semilogx(U_vec, OGDErrors, color='k')\n",
    "plt.axhline(DFEGError, color='y', linestyle='-')\n",
    "plt.axhline(AdaNormError, color='b', linestyle='-')\n",
    "plt.axhline(KTError, color='r', linestyle='-')\n",
    "plt.ticklabel_format(axis=\"y\", style=\"sci\", scilimits=(0,0))\n",
    "plt.show()"
   ]
  },
  {
   "cell_type": "code",
   "execution_count": 12,
   "metadata": {},
   "outputs": [
    {
     "data": {
      "image/png": "[encoded data removed]",
      "text/plain": [
       "<Figure size 432x288 with 1 Axes>"
      ]
     },
     "metadata": {
      "needs_background": "light"
     },
     "output_type": "display_data"
    }
   ],
   "source": [
    "plt.axhline(DFEGError, color='y', linestyle='-')\n",
    "plt.axhline(AdaNormError, color='b', linestyle='-')\n",
    "plt.axhline(KTError, color='r', linestyle='-')\n",
    "plt.ticklabel_format(axis=\"y\", style=\"sci\", scilimits=(0,0))\n",
    "plt.show()"
   ]
  },
  {
   "cell_type": "code",
   "execution_count": null,
   "metadata": {},
   "outputs": [],
   "source": []
  }
 ],
 "metadata": {
  "kernelspec": {
   "display_name": "Python 3",
   "language": "python",
   "name": "python3"
  },
  "language_info": {
   "codemirror_mode": {
    "name": "ipython",
    "version": 3
   },
   "file_extension": ".py",
   "mimetype": "text/x-python",
   "name": "python",
   "nbconvert_exporter": "python",
   "pygments_lexer": "ipython3",
   "version": "3.8.5"
  }
 },
 "nbformat": 4,
 "nbformat_minor": 4
}

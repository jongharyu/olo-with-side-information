{
 "cells": [
  {
   "cell_type": "code",
   "execution_count": 21,
   "outputs": [
    {
     "name": "stdout",
     "output_type": "stream",
     "text": [
      "The autoreload extension is already loaded. To reload it, use:\n",
      "  %reload_ext autoreload\n"
     ]
    }
   ],
   "source": [
    "import matplotlib.pyplot as plt\n",
    "import numpy as np\n",
    "import sys, os\n",
    "\n",
    "import datasets\n",
    "from regression import OnlineGradientDescent, CoinBetting, DimensionFreeExponentiatedGradient, AdaptiveNormal\n",
    "\n",
    "sys.path.append(os.path.abspath('../olo-with-side-information'))\n",
    "\n",
    "%load_ext autoreload\n",
    "%autoreload 2"
   ],
   "metadata": {
    "collapsed": false,
    "pycharm": {
     "name": "#%%\n"
    }
   }
  },
  {
   "cell_type": "markdown",
   "metadata": {},
   "source": [
    "# Reproducing (Orabona and Pal, 2016)"
   ]
  },
  {
   "cell_type": "code",
   "execution_count": 2,
   "metadata": {
    "scrolled": true
   },
   "outputs": [],
   "source": [
    "data = datasets.CpuSmall(standardize=False, normalize=True)  # default preprocessing used in (Orabona and Pal, 2016)"
   ]
  },
  {
   "cell_type": "code",
   "execution_count": 29,
   "outputs": [],
   "source": [
    "ogds = dict()\n",
    "lr_scales = np.array([1.5 ** n for n in range(20)])\n",
    "for lr_scale in lr_scales:\n",
    "    ogds[lr_scale] = OnlineGradientDescent(lr_scale=lr_scale).fit(data.X, data.y)"
   ],
   "metadata": {
    "collapsed": false,
    "pycharm": {
     "name": "#%%\n"
    }
   }
  },
  {
   "cell_type": "code",
   "execution_count": 26,
   "outputs": [],
   "source": [
    "dfeg = DimensionFreeExponentiatedGradient().fit(data.X, data.y)\n",
    "adanorm = AdaptiveNormal().fit(data.X, data.y)"
   ],
   "metadata": {
    "collapsed": false,
    "pycharm": {
     "name": "#%%\n"
    }
   }
  },
  {
   "cell_type": "code",
   "execution_count": 36,
   "outputs": [],
   "source": [
    "coin = CoinBetting().fit(data.X, data.y)"
   ],
   "metadata": {
    "collapsed": false,
    "pycharm": {
     "name": "#%%\n"
    }
   }
  },
  {
   "cell_type": "code",
   "execution_count": 37,
   "outputs": [
    {
     "data": {
      "text/plain": "<Figure size 432x288 with 1 Axes>",
      "image/png": "[encoded data removed]"
     },
     "metadata": {
      "needs_background": "light"
     },
     "output_type": "display_data"
    }
   ],
   "source": [
    "plt.semilogx(lr_scales, [ogds[lr_scale].cumulative_loss for lr_scale in lr_scales], color='k', marker='x', label='OGD')\n",
    "plt.axhline(dfeg.cumulative_loss, color='y', marker='o', label='DFEG')\n",
    "plt.axhline(adanorm.cumulative_loss, color='r', marker='1', label='AdaNorm')\n",
    "plt.axhline(coin.cumulative_loss, color='b', marker='2', label='KT')\n",
    "plt.xlabel('learning rate scale')\n",
    "plt.ylabel('cumulative loss')\n",
    "plt.legend()\n",
    "plt.ticklabel_format(axis='y', style='sci', scilimits=(0,0))"
   ],
   "metadata": {
    "collapsed": false,
    "pycharm": {
     "name": "#%%\n"
    }
   }
  }
 ],
 "metadata": {
  "kernelspec": {
   "display_name": "Python 3",
   "language": "python",
   "name": "python3"
  },
  "language_info": {
   "codemirror_mode": {
    "name": "ipython",
    "version": 3
   },
   "file_extension": ".py",
   "mimetype": "text/x-python",
   "name": "python",
   "nbconvert_exporter": "python",
   "pygments_lexer": "ipython3",
   "version": "3.8.5"
  }
 },
 "nbformat": 4,
 "nbformat_minor": 4
}